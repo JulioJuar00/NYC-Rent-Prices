{
 "cells": [
  {
   "cell_type": "code",
   "execution_count": 3,
   "metadata": {
    "collapsed": false
   },
   "outputs": [
   ],
   "source": [
    "import requests \n",
    "from bs4 import BeautifulSoup\n",
    "import json\n",
    "import csv"
   ]
  },
  {
   "cell_type": "code",
   "execution_count": 139,
   "metadata": {
    "collapsed": false
   },
   "outputs": [
    {
     "name": "stdout",
     "output_type": "stream",
     "text": [
      "HTTP GET request to URL: https://www.zillow.com/brooklyn-new-york-ny/rentals/ | Status code: 200\n",
      "HTTP GET request to URL: https://www.zillow.com/brooklyn-new-york-ny/rentals/ | Status code: 200\n",
      "HTTP GET request to URL: https://www.zillow.com/brooklyn-new-york-ny/rentals/ | Status code: 200\n",
      "HTTP GET request to URL: https://www.zillow.com/brooklyn-new-york-ny/rentals/ | Status code: 200\n",
      "HTTP GET request to URL: https://www.zillow.com/brooklyn-new-york-ny/rentals/ | Status code: 200\n",
      "HTTP GET request to URL: https://www.zillow.com/brooklyn-new-york-ny/rentals/ | Status code: 200\n",
      "HTTP GET request to URL: https://www.zillow.com/brooklyn-new-york-ny/rentals/ | Status code: 200\n",
      "HTTP GET request to URL: https://www.zillow.com/brooklyn-new-york-ny/rentals/ | Status code: 200\n",
      "HTTP GET request to URL: https://www.zillow.com/brooklyn-new-york-ny/rentals/ | Status code: 200\n",
      "HTTP GET request to URL: https://www.zillow.com/brooklyn-new-york-ny/rentals/ | Status code: 200\n",
      "HTTP GET request to URL: https://www.zillow.com/brooklyn-new-york-ny/rentals/ | Status code: 200\n",
      "HTTP GET request to URL: https://www.zillow.com/brooklyn-new-york-ny/rentals/ | Status code: 200\n",
      "HTTP GET request to URL: https://www.zillow.com/brooklyn-new-york-ny/rentals/ | Status code: 200\n",
      "HTTP GET request to URL: https://www.zillow.com/brooklyn-new-york-ny/rentals/ | Status code: 200\n"
     ]
    }
   ],
   "source": [
    "class ZillowScraper:\n",
    "    results = []\n",
    "    headers = {\n",
    "        'accept': 'text/html,application/xhtml+xml,application/xml;q=0.9,image/webp,image/apng,*/*;q=0.8,application/signed-exchange;v=b3;q=0.9',\n",
    "        'accept-encoding': 'gzip, deflate, br',\n",
    "        'accept-language': 'en-US,en;q=0.9,ru;q=0.8',\n",
    "        'cache-control': 'max-age=0',\n",
    "        'cookie': 'zguid=23|%240bc9d364-2ef6-4c88-a0d3-863ec03ebaf7; zgsession=1|0193e537-a954-42fe-983e-3bb4cc763f49; G_ENABLED_IDPS=google; JSESSIONID=200955A960EC6C53AB26BE3A073E2D95; AWSALB=9OnXiq94FhyLK4yEWnpJDjrvJCfMTW/I6SWUGnLqaFeCh+Efb+jrJHN8x8Wbh8OKjUqSf0Nh916Z69Xx7EqkJEeDzYHK0Yc93a6JwhhV4rBh6KB2YOAVr6XhntMN; AWSALBCORS=9OnXiq94FhyLK4yEWnpJDjrvJCfMTW/I6SWUGnLqaFeCh+Efb+jrJHN8x8Wbh8OKjUqSf0Nh916Z69Xx7EqkJEeDzYHK0Yc93a6JwhhV4rBh6KB2YOAVr6XhntMN; search=6|1589412245005%7Crect%3D40.80804134081856%252C-73.61438612719726%252C40.50200122440905%252C-74.26086287280273%26rid%3D37607%26disp%3Dmap%26mdm%3Dauto%26p%3D1%26sort%3Ddays%26z%3D0%26fs%3D0%26fr%3D1%26mmm%3D0%26rs%3D0%26ah%3D0%26singlestory%3D0%26housing-connector%3D0%26abo%3D0%26garage%3D0%26pool%3D0%26ac%3D0%26waterfront%3D0%26finished%3D0%26unfinished%3D0%26cityview%3D0%26mountainview%3D0%26parkview%3D0%26waterview%3D0%26hoadata%3D1%26zillow-owned%3D0%09%0937607%09%09%09%09%09%09',\n",
    "        'sec-fetch-dest': 'document',\n",
    "        'sec-fetch-mode': 'navigate',\n",
    "        'sec-fetch-site': 'none',\n",
    "         'sec-fetch-user': '?1',\n",
    "         'upgrade-insecure-requests': '1',\n",
    "         'user-agent': 'Mozilla/5.0 (iPad; CPU OS 11_0 like Mac OS X) AppleWebKit/604.1.34 (KHTML, like Gecko) Version/11.0 Mobile/15A5341f Safari/604.1'\n",
    "    }\n",
    "   \n",
    "    def fetch(self, url,params):\n",
    "        print('HTTP GET request to URL: %s'%url, end='')\n",
    "        res = requests.get(url , params = params, headers = self.headers)\n",
    "        print(' | Status code: %s' % res.status_code)\n",
    "        \n",
    "        return res\n",
    "        \n",
    "    def save_response(self, res):\n",
    "        with open('res.html', 'w',encoding='utf-8') as html_file:\n",
    "            html_file.write(res)\n",
    "    \n",
    "    def load_response(self):\n",
    "        html = ''\n",
    "        \n",
    "        with open('res.html','r',encoding='utf-8') as html_file:\n",
    "            for line in html_file:\n",
    "                html+=line\n",
    "        return html\n",
    "    \n",
    "    def parse(self,html):\n",
    "        content = BeautifulSoup(html, 'lxml')\n",
    "        cards = content.findAll('article',{'class':'list-card'})\n",
    "            \n",
    "        for card in cards:\n",
    "            try:\n",
    "                squareFeet = card.find('ul',{'class':'list-card-details'}).findAll('li')[2].text.split(' ')[0]\n",
    "            except: \n",
    "                squareFeet = 'N/A'\n",
    "                \n",
    "            if(card.find('ul',{'class':'list-card-details'}).find('li').text.startswith( '$' )):\n",
    "                price = card.find('ul',{'class':'list-card-details'}).find('li').text.split(' ')[0].replace(\"+\", \"\")\n",
    "                bathrooms = \"1\"\n",
    "                squareFeet = 'N/A'\n",
    "                try:\n",
    "                    bedroom = card.find('ul',{'class':'list-card-details'}).find('li').text.split('+ ')[1].split(' ')[0]\n",
    "                except:\n",
    "                    bedroom = card.find('ul',{'class':'list-card-details'}).find('li').text.split(' ')[1].split(' ')[0]\n",
    "            else:\n",
    "                price = card.find('div',{'class':'list-card-price'}).text.split('/')[0]\n",
    "                bedroom = card.find('ul',{'class':'list-card-details'}).find('li').text.split(' ')[0]\n",
    "                bathrooms = card.find('ul',{'class':'list-card-details'}).findAll('li')[1].text.split(' ')[0]\n",
    "                try:\n",
    "                    squareFeet = card.find('ul',{'class':'list-card-details'}).findAll('li')[2].text.split(' ')[0]\n",
    "                except: \n",
    "                    squareFeet = 'N/A'\n",
    "                \n",
    "            if ('| ') in card.find('address',{'class':'list-card-addr'}).text:\n",
    "                address = card.find('address',{'class':'list-card-addr'}).text.split('| ')[1]\n",
    "            else:\n",
    "                address = card.find('address',{'class':'list-card-addr'}).text\n",
    "                \n",
    "            self.results.append({\n",
    "                'price': price,\n",
    "                'address':address,\n",
    "                'bedrooms':bedroom,\n",
    "                'bathrooms':bathrooms,\n",
    "                 'squareFeet':squareFeet\n",
    "            })\n",
    "    def to_csv(self):\n",
    "        with open('zillowBrooklyn.csv','w') as csv_file:\n",
    "            writer = csv.DictWriter(csv_file, fieldnames=self.results[0].keys(),lineterminator = '\\n')\n",
    "            writer.writeheader()\n",
    "            for row in self.results:\n",
    "                writer.writerow(row)\n",
    "\n",
    "    def run(self):\n",
    "        firstPage = True\n",
    "        pageNum = 3\n",
    "        for page in range(1,15):\n",
    "            params = {'searchQueryState':'{\"pagination\":{\"currentPage\":%s},\"usersSearchTerm\":\"Brooklyn, New York, NY\",\"mapBounds\":{\"west\":-74.26086287280273,\"east\":-73.61438612719726,\"south\":40.50200122440905,\"north\":40.80804134081856},\"mapZoom\":12,\"regionSelection\":[{\"regionId\":37607,\"regionType\":17}],\"filterState\":{\"pmf\":{\"value\":false},\"fore\":{\"value\":false},\"auc\":{\"value\":false},\"nc\":{\"value\":false},\"fr\":{\"value\":true},\"fsbo\":{\"value\":false},\"cmsn\":{\"value\":false},\"pf\":{\"value\":false},\"fsba\":{\"value\":false}},\"isListVisible\":true,\"isMapVisible\":false}'%page\n",
    "            }\n",
    "            res = self.fetch('https://www.zillow.com/brooklyn-new-york-ny/rentals/',params)\n",
    "            self.parse(res.text)\n",
    "            self.to_csv()\n",
    "        \n",
    "if __name__ == '__main__':\n",
    "    \n",
    "    scraper = ZillowScraper()\n",
    "    scraper.run()"
   ]
  },
  {
   "cell_type": "code",
   "execution_count": 41,
   "metadata": {
    "collapsed": false
   },
   "outputs": [
    {
     "name": "stdout",
     "output_type": "stream",
     "text": [
      "\n"
     ]
    }
   ],
   "source": [
    "test = \"There\"\n",
    "test1 = test.split('T')\n",
    "print(test1[0])"
   ]
  },
  {
   "cell_type": "code",
   "execution_count": 0,
   "metadata": {
    "collapsed": false
   },
   "outputs": [
   ],
   "source": [
   ]
  }
 ],
 "metadata": {
  "kernelspec": {
   "display_name": "Python 3 (system-wide)",
   "language": "python",
   "metadata": {
    "cocalc": {
     "description": "Python 3 programming language",
     "priority": 100,
     "url": "https://www.python.org/"
    }
   },
   "name": "python3"
  },
  "language_info": {
   "codemirror_mode": {
    "name": "ipython",
    "version": 3
   },
   "file_extension": ".py",
   "mimetype": "text/x-python",
   "name": "python",
   "nbconvert_exporter": "python",
   "pygments_lexer": "ipython3",
   "version": "3.6.9"
  }
 },
 "nbformat": 4,
 "nbformat_minor": 4
}